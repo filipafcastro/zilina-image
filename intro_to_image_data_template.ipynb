{
  "nbformat": 4,
  "nbformat_minor": 0,
  "metadata": {
    "colab": {
      "name": "intro to image data_template.ipynb",
      "provenance": [],
      "toc_visible": true
    },
    "kernelspec": {
      "name": "python3",
      "display_name": "Python 3"
    },
    "language_info": {
      "name": "python"
    }
  },
  "cells": [
    {
      "cell_type": "markdown",
      "metadata": {
        "id": "rxP6thDzeER9"
      },
      "source": [
        "# Import relevant packages"
      ]
    },
    {
      "cell_type": "code",
      "metadata": {
        "id": "HFaZ1CJzeCVE"
      },
      "source": [
        "import cv2\n",
        "import numpy as np\n",
        "\n",
        "from google.colab.patches import cv2_imshow\n",
        "from matplotlib import pyplot as plt"
      ],
      "execution_count": 1,
      "outputs": []
    },
    {
      "cell_type": "markdown",
      "metadata": {
        "id": "lmHRkICqpPJl"
      },
      "source": [
        "`cv2` corresponds to OpenCV (https://opencv.org/), an Open Source Computer Vision Library with a huge variety of tools for computer vision."
      ]
    },
    {
      "cell_type": "markdown",
      "metadata": {
        "id": "S3x_YeDZd-q3"
      },
      "source": [
        "# Explore your image"
      ]
    },
    {
      "cell_type": "markdown",
      "metadata": {
        "id": "o9TTybParMfz"
      },
      "source": [
        "## Read image"
      ]
    },
    {
      "cell_type": "markdown",
      "metadata": {
        "id": "i_DajSKKrPOi"
      },
      "source": [
        "## Show image"
      ]
    },
    {
      "cell_type": "markdown",
      "metadata": {
        "id": "-HHz3BotrW3u"
      },
      "source": [
        "## Check shape and size"
      ]
    },
    {
      "cell_type": "markdown",
      "metadata": {
        "id": "O_1UhTkfiqZQ"
      },
      "source": [
        "## Image channels"
      ]
    },
    {
      "cell_type": "markdown",
      "metadata": {
        "id": "0iI4XmHSetWt"
      },
      "source": [
        "# Resize image"
      ]
    },
    {
      "cell_type": "markdown",
      "metadata": {
        "id": "EO3MMJ40s1bL"
      },
      "source": [
        "### Make it smaller"
      ]
    },
    {
      "cell_type": "markdown",
      "metadata": {
        "id": "SZCrCcgYs4Ke"
      },
      "source": [
        "### Make it bigger"
      ]
    },
    {
      "cell_type": "markdown",
      "metadata": {
        "id": "Zd-TDT0Mit89"
      },
      "source": [
        "# Crop image"
      ]
    },
    {
      "cell_type": "markdown",
      "metadata": {
        "id": "NnSiqUn8iwVR"
      },
      "source": [
        "# Overlay images"
      ]
    },
    {
      "cell_type": "markdown",
      "metadata": {
        "id": "vvDqN0uui9fp"
      },
      "source": [
        "# Morphological operations"
      ]
    },
    {
      "cell_type": "markdown",
      "metadata": {
        "id": "DGBhkcRFNH14"
      },
      "source": [
        "## Convert to grayscale"
      ]
    },
    {
      "cell_type": "markdown",
      "metadata": {
        "id": "U-qegZInOkiT"
      },
      "source": [
        "## Convert to binary"
      ]
    },
    {
      "cell_type": "markdown",
      "metadata": {
        "id": "S28W2Cb4Oz9k"
      },
      "source": [
        "### Dilation"
      ]
    },
    {
      "cell_type": "markdown",
      "metadata": {
        "id": "OuYikH6jPFf_"
      },
      "source": [
        "### Erosion"
      ]
    },
    {
      "cell_type": "markdown",
      "metadata": {
        "id": "r2yulo-DQNb_"
      },
      "source": [
        "### Morphological Gradient"
      ]
    },
    {
      "cell_type": "markdown",
      "metadata": {
        "id": "loPKzoceQXMv"
      },
      "source": [
        "# Filters"
      ]
    },
    {
      "cell_type": "markdown",
      "metadata": {
        "id": "u_iG-IC4Q250"
      },
      "source": [
        "## Blur"
      ]
    },
    {
      "cell_type": "markdown",
      "metadata": {
        "id": "deLuo-bfRXLx"
      },
      "source": [
        "## Sharpen"
      ]
    },
    {
      "cell_type": "markdown",
      "metadata": {
        "id": "7ZU75kCrRpRj"
      },
      "source": [
        "https://en.wikipedia.org/wiki/Kernel_(image_processing)"
      ]
    },
    {
      "cell_type": "markdown",
      "metadata": {
        "id": "GeWZUwukR80J"
      },
      "source": [
        "## Edge Detection"
      ]
    },
    {
      "cell_type": "markdown",
      "metadata": {
        "id": "MA3EmQUGYEo9"
      },
      "source": [
        "## Sepia"
      ]
    },
    {
      "cell_type": "markdown",
      "metadata": {
        "id": "d_DhcS08cvO_"
      },
      "source": [
        "# Face Detection"
      ]
    }
  ]
}